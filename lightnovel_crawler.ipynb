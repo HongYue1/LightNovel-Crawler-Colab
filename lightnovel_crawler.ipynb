{
  "nbformat": 4,
  "nbformat_minor": 0,
  "metadata": {
    "colab": {
      "provenance": [],
      "include_colab_link": true
    },
    "kernelspec": {
      "name": "python3",
      "display_name": "Python 3"
    },
    "language_info": {
      "name": "python"
    }
  },
  "cells": [
    {
      "cell_type": "markdown",
      "metadata": {
        "id": "view-in-github",
        "colab_type": "text"
      },
      "source": [
        "<a href=\"https://colab.research.google.com/github/HongYue1/LightNovel-Crawler-Colab/blob/main/lightnovel_crawler.ipynb\" target=\"_parent\"><img src=\"https://colab.research.google.com/assets/colab-badge.svg\" alt=\"Open In Colab\"/></a>"
      ]
    },
    {
      "cell_type": "markdown",
      "source": [
        " <font color=\"#3399ff\" size=10><b> How to use:</b></font>\n",
        "### 1. Click on  <font color=\"yellow\" size=5><b> connect </b></font>on the top right and wait untill it finishs connecting.\n",
        "### 2. Before running a block, make sure to <font color=\"red\" size=5> <b> fill the required data first. </b></font>\n",
        "### 3. Run each block, wait for the block to finish before running the next block, the block finishes when you see a green check mark<font color =\"#1bc757\" size=5><b> ✔</b></font> next to the run button.\n",
        "###4. After uploading finish you will be given the links as an output.\n",
        "### 5. Note: to download several novels you don't need to redo all this steps, just download a novel then upload it, then go back to the download section and download the next novel then upload it....etc , <font color=\"red\" size=5> <b> you can only upload one novel a time.</br></font>\n",
        "### <font color=\"#00c3e3\" size=6><b> Look at the buttom of this notebook for A list of tested and working sources.</b></font>\n",
        "# <font color=\"FF1493\" size=5> <b> Enjoy <3 </b> </font>\n",
        "# <a href=\"https://github.com/HongYue1/LightNovel-Crawler-Colab\">Github</a> <br >\n"
      ],
      "metadata": {
        "id": "lqzvL9ycODBK"
      }
    },
    {
      "cell_type": "markdown",
      "source": [
        "## ⏬ Install LightNovel-crawler"
      ],
      "metadata": {
        "id": "X_Z7DS7sG-bU"
      }
    },
    {
      "cell_type": "code",
      "execution_count": null,
      "metadata": {
        "id": "UoqmI4AnBHoc",
        "cellView": "form"
      },
      "outputs": [],
      "source": [
        "# @markdown <font size =5 color=\"yellow\"> ⬅️ Click Here to install LightNovel-crawler</font>\n",
        "from google.colab import output\n",
        "!pip install -U lightnovel-crawler\n",
        "output.clear()\n",
        "print(\"Done!\")"
      ]
    },
    {
      "cell_type": "markdown",
      "source": [
        "## ⏬ Download Novel"
      ],
      "metadata": {
        "id": "fo1CPCQiGwDH"
      }
    },
    {
      "cell_type": "code",
      "source": [
        "#@markdown <font size =5 color=\"yellow\">⬅️ Click Here to Download</font>\n",
        "\n",
        "#@markdown <h4> Enter the Link:\n",
        "\n",
        "Link = \"\"#@param {type:\"string\"}\n",
        "#@markdown <center><h3><font color=\"#3399ff\"><b>⚙️ Advanced Options ⚙️</b></font></h3></center>\n",
        "\n",
        "#@markdown <h4> Enter the range of the chapters separted by a space or enter <font color=\"#3399ff\" size=5><b>All</b></font>  to download all chapters.\n",
        "#@markdown <h5> Example to download chapters between 1 and 100 : 1 100\n",
        "Range = \"All\"#@param {type:\"string\"}\n",
        "\n",
        "\n",
        "Format=\"epub\"\n",
        "\n",
        "def download():\n",
        "\n",
        "  Misc_command=\" -f --suppress\"\n",
        "\n",
        "\n",
        "  if(Range==\"All\"):\n",
        "    !lncrawl --single -o \"/content/novels\" -s $Link --format $Format --all $Misc_command\n",
        "  else:\n",
        "    !lncrawl --single -o \"/content/novels\" -s $Link --format $Format --range $Range $Misc_command\n",
        "\n",
        "download()"
      ],
      "metadata": {
        "id": "-JO6phMeBUz4",
        "cellView": "form"
      },
      "execution_count": null,
      "outputs": []
    },
    {
      "cell_type": "markdown",
      "metadata": {
        "id": "TWTuIIzUF6hJ"
      },
      "source": [
        "##<img src='https://raw.githubusercontent.com/biplobsd/OneClickRun/master/img/zip.png' height=\"30\" alt=\"netdata\"> Archive and Upload"
      ]
    },
    {
      "cell_type": "code",
      "metadata": {
        "cellView": "form",
        "id": "fPTR4C_gF6hS"
      },
      "source": [
        "# @markdown <font size =5 color=\"yellow\"> ⬅️ Archive Files and Upload</font>\n",
        "\n",
        "# ============================= Compress ============================= #\n",
        "\n",
        "import os\n",
        "from google.colab import output\n",
        "\n",
        "directory_path = '/content/novels/'+Format\n",
        "file_list = os.listdir(directory_path)\n",
        "first_file = file_list[0]\n",
        "file_name_without_extension = os.path.splitext(first_file)[0]\n",
        "FILENAME = file_name_without_extension+'.zip'\n",
        "PATH_TO_FILE = \"/content/novels\"\n",
        "\n",
        "!zip \"{FILENAME}\" -9 -u -r  \"{PATH_TO_FILE}\"\n",
        "output.clear()\n",
        "\n",
        "# ============================= Upload ============================= #\n",
        "\n",
        "# Gofile.io\n",
        "# https://github.com/m0bb1n/gofilepy\n",
        "!pip install gofilepy-api\n",
        "output.clear()\n",
        "from gofilepy import GofileClient\n",
        "client = GofileClient()\n",
        "file = client.upload(file=open(FILENAME, \"rb\"))\n",
        "gofile=file.page_link\n",
        "\n",
        "# file.cv\n",
        "import requests\n",
        "# Use the correct file path and open the file in binary read mode\n",
        "files = {'file': open(FILENAME, 'rb')}\n",
        "headers = {'X-Account-ID': '9215854213114742'}\n",
        "response = requests.post('https://api.files.vc/upload', files=files, headers=headers)\n",
        "filecv =response.json()[\"file_url\"]\n",
        "\n",
        "# buzzheavier\n",
        "import subprocess\n",
        "import json\n",
        "import urllib.parse\n",
        "\n",
        "buzzheavier_url = \"https://w.buzzheavier.com/\"+f\"{urllib.parse.quote(FILENAME, safe='')}\"\n",
        "result = subprocess.run(\n",
        "        ['curl', '-#o-', '-T', FILENAME, buzzheavier_url],\n",
        "        capture_output=True,\n",
        "        text=True,  # Get output as text\n",
        "        check=True   # Raise an exception for non-zero exit codes\n",
        "    )\n",
        "\n",
        "try:\n",
        "    # Parse the JSON output\n",
        "    json_data = json.loads(result.stdout)\n",
        "    file_id = json_data[\"data\"][\"id\"]\n",
        "    buzzheavier=\"https://buzzheavier.com/\"+file_id\n",
        "except json.JSONDecodeError as e:\n",
        "    print(f\"Error decoding JSON: {e}\")\n",
        "    print(f\"Raw output:\\n{result.stdout}\")  # Print raw output for debugging\n",
        "except KeyError as e:\n",
        "    print(f\"KeyError: 'id' or 'data' not found in JSON response: {e}\")\n",
        "    print(f\"Raw output:\\n{result.stdout}\")\n",
        "except subprocess.CalledProcessError as e: # Handle curl errors\n",
        "    print(f\"curl command failed: {e}\")\n",
        "    print(f\"stderr:\\n{e.stderr}\") #Print stderr for curl\n",
        "\n",
        "\n",
        "print(\"Uploding...\")\n",
        "print(\"Links to the file: (choose any)\")\n",
        "print(f\"Gofile: {gofile}\") #View and download file at this link\n",
        "print(f\"file.cv: {filecv}\")\n",
        "print(f\"buzzheavier: {buzzheavier}\")\n"
      ],
      "execution_count": null,
      "outputs": []
    },
    {
      "cell_type": "markdown",
      "source": [
        "## List of Working Sources sorted by speed. ⭐ = Recommended (Work in progress)\n",
        "<font color=\"red\" size=\"4\"> Note:</font> <font size=\"3\">working doesn't mean that it has the novel you want or the novel isn't missing chapters in that source, so always take notice of the the number of chapters while downloading."
      ],
      "metadata": {
        "id": "8g8U8KP8Zer9"
      }
    },
    {
      "cell_type": "code",
      "source": [
        "#@markdown <font size =5 color=\"yellow\">⬅️ Fetch working sources</font>\n",
        "import pandas as pd\n",
        "from urllib.parse import urlparse, parse_qs\n",
        "from IPython.display import display, Markdown\n",
        "\n",
        "input_url = \"https://docs.google.com/spreadsheets/d/1SGfpvLFq7DzssklY90cmTKqQEBNeOBcAj1zSHDv-gfA/edit?usp=sharing\"\n",
        "\n",
        "\n",
        "# Parse URL components\n",
        "parsed_url = urlparse(input_url)\n",
        "path_parts = parsed_url.path.split('/')\n",
        "\n",
        "# Extract document ID from URL path\n",
        "doc_id = path_parts[3]  # The document ID is the 4th path component\n",
        "\n",
        "# Extract gid from URL fragment\n",
        "fragment = parse_qs(parsed_url.fragment)\n",
        "gid = fragment.get('gid', ['0'])[0]  # Default to gid=0 if not specified\n",
        "\n",
        "# Create CSV export URL\n",
        "export_url = f'https://docs.google.com/spreadsheets/d/{doc_id}/export?format=csv&gid={gid}'\n",
        "\n",
        "# Read data from Google Sheets\n",
        "df = pd.read_csv(export_url)\n",
        "\n",
        "# Convert DataFrame to Markdown table\n",
        "markdown_table = df.fillna('').to_markdown(index=False)\n",
        "\n",
        "# Display as formatted Markdown\n",
        "display(Markdown(markdown_table))\n",
        "\n"
      ],
      "metadata": {
        "cellView": "form",
        "id": "adXW7HR8YaV4"
      },
      "execution_count": null,
      "outputs": []
    }
  ]
}