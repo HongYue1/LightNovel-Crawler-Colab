{
  "nbformat": 4,
  "nbformat_minor": 0,
  "metadata": {
    "colab": {
      "provenance": [],
      "include_colab_link": true
    },
    "kernelspec": {
      "name": "python3",
      "display_name": "Python 3"
    },
    "language_info": {
      "name": "python"
    }
  },
  "cells": [
    {
      "cell_type": "markdown",
      "metadata": {
        "id": "view-in-github",
        "colab_type": "text"
      },
      "source": [
        "<a href=\"https://colab.research.google.com/github/HongYue1/LightNovel-Crawler-Colab/blob/main/lightnovel_crawler.ipynb\" target=\"_parent\"><img src=\"https://colab.research.google.com/assets/colab-badge.svg\" alt=\"Open In Colab\"/></a>"
      ]
    },
    {
      "cell_type": "markdown",
      "source": [
        " <font color=\"#3399ff\" size=10><b> How to use:</b></font>\n",
        "### 1. Click on  <font color=\"yellow\" size=5><b> connect </b></font>on the top right and wait untill it finishs connecting.\n",
        "### 2. Before running a block, make sure to <font color=\"red\" size=5> <b> fill the required data first. </b></font>\n",
        "### 3. Run each block, wait for the block to finish before running the next block, the block finishes when you see a green check mark<font color =\"#1bc757\" size=5><b> ✔</b></font> next to the run button.\n",
        "###4. After uploading finish you will be given the links as an output.\n",
        "### 5. Note: to download several novels you don't need to redo all these steps, just download a novel then upload it, then go back to the download section and download the next novel then upload it....etc , <font color=\"red\" size=5> <b> you can only upload one novel a time.</br></font>\n",
        "### <font color=\"#00c3e3\" size=6><b> Look at the buttom of this notebook for A list of tested and working sources.</b></font>\n",
        "# <font color=\"FF1493\" size=5> <b> Enjoy <3 </b> </font>\n",
        "# <a href=\"https://github.com/HongYue1/LightNovel-Crawler-Colab\">Github</a> <br >\n"
      ],
      "metadata": {
        "id": "lqzvL9ycODBK"
      }
    },
    {
      "cell_type": "markdown",
      "source": [
        "## ⏬ Install LightNovel-crawler"
      ],
      "metadata": {
        "id": "X_Z7DS7sG-bU"
      }
    },
    {
      "cell_type": "code",
      "execution_count": null,
      "metadata": {
        "id": "UoqmI4AnBHoc",
        "cellView": "form"
      },
      "outputs": [],
      "source": [
        "# @markdown <font size =5 color=\"yellow\"> ⬅️ Click Here to install</font>\n",
        "from google.colab import output\n",
        "!pip install -U lightnovel-crawler\n",
        "!pip install gofilepy-api\n",
        "\n",
        "output.clear()\n",
        "print(\"Done!\")"
      ]
    },
    {
      "cell_type": "markdown",
      "source": [
        "## ⏬ Download Novel"
      ],
      "metadata": {
        "id": "fo1CPCQiGwDH"
      }
    },
    {
      "cell_type": "code",
      "source": [
        "#@markdown <font size =5 color=\"yellow\">⬅️ Click Here to Download</font>\n",
        "\n",
        "#@markdown <h4> Enter the Link:\n",
        "\n",
        "Link = \"\"#@param {type:\"string\"}\n",
        "#@markdown <center><h3><font color=\"#3399ff\"><b>⚙️ Advanced Options ⚙️</b></font></h3></center>\n",
        "\n",
        "#@markdown <h4> Enter the range of the chapters separted by a space or enter <font color=\"#3399ff\" size=5><b>All</b></font>  to download all chapters.\n",
        "#@markdown <h5> Example to download chapters between 1 and 100 : 1 100\n",
        "Range = \"All\"#@param {type:\"string\"}\n",
        "\n",
        "\n",
        "Format=\"epub\"\n",
        "\n",
        "def download():\n",
        "\n",
        "  Misc_command=\" -f --suppress\"\n",
        "\n",
        "\n",
        "  if(Range==\"All\"):\n",
        "    !lncrawl --single -o \"/content/novels\" -s $Link --format $Format --all $Misc_command\n",
        "  else:\n",
        "    !lncrawl --single -o \"/content/novels\" -s $Link --format $Format --range $Range $Misc_command\n",
        "\n",
        "download()"
      ],
      "metadata": {
        "id": "-JO6phMeBUz4",
        "cellView": "form"
      },
      "execution_count": null,
      "outputs": []
    },
    {
      "cell_type": "markdown",
      "metadata": {
        "id": "TWTuIIzUF6hJ"
      },
      "source": [
        "##<img src='https://raw.githubusercontent.com/biplobsd/OneClickRun/master/img/zip.png' height=\"30\" alt=\"netdata\"> Archive and Upload"
      ]
    },
    {
      "cell_type": "code",
      "source": [
        "# @markdown <font size =5 color=\"yellow\"> ⬅️ Upload</font>\n",
        "\n",
        "import os\n",
        "import json\n",
        "import requests\n",
        "import threading\n",
        "import urllib.parse\n",
        "import subprocess\n",
        "from gofilepy import GofileClient\n",
        "\n",
        "\n",
        "def get_file_path():\n",
        "    \"\"\"Get the first file path from the specified directory.\"\"\"\n",
        "    directory_path = \"/content/novels/epub/\"\n",
        "    try:\n",
        "        file_list = os.listdir(directory_path)\n",
        "        if not file_list:\n",
        "            raise FileNotFoundError(\"No files found in the directory\")\n",
        "\n",
        "        first_file = file_list[0]\n",
        "        file_name_without_extension = os.path.splitext(first_file)[0]\n",
        "        filename = file_name_without_extension + \".epub\"\n",
        "        return directory_path + first_file, filename\n",
        "    except Exception as e:\n",
        "        print(f\"Error getting file path: {e}\")\n",
        "        return None, None\n",
        "\n",
        "\n",
        "def upload_to_gofile(file_path):\n",
        "    \"\"\"Upload file to Gofile.io.\"\"\"\n",
        "    try:\n",
        "        client = GofileClient()\n",
        "        with open(file_path, \"rb\") as file_obj:\n",
        "            file = client.upload(file=file_obj)\n",
        "        return file.page_link\n",
        "    except Exception as e:\n",
        "        # print(f\"Gofile upload error: {e}\")\n",
        "        return \"Upload failed\"\n",
        "\n",
        "\n",
        "def upload_to_filesvc(file_path):\n",
        "    \"\"\"Upload file to files.vc.\"\"\"\n",
        "    try:\n",
        "        with open(file_path, \"rb\") as file_obj:\n",
        "            files = {\"file\": file_obj}\n",
        "            headers = {\"X-Account-ID\": \"9215854213114742\"}\n",
        "            response = requests.post(\n",
        "                \"https://api.files.vc/upload\", files=files, headers=headers, timeout=10\n",
        "            )\n",
        "            response.raise_for_status()\n",
        "            return response.json()[\"file_url\"]\n",
        "    except Exception as e:\n",
        "        # print(f\"Files.vc upload error: {e}\")\n",
        "        return \"Upload failed\"\n",
        "\n",
        "\n",
        "def upload_to_buzzheavier(file_path, filename):\n",
        "    \"\"\"Upload file to buzzheavier.com.\"\"\"\n",
        "    try:\n",
        "        buzzheavier_url = \"https://w.buzzheavier.com/\" + urllib.parse.quote(\n",
        "            filename, safe=\"\"\n",
        "        )\n",
        "        result = subprocess.run(\n",
        "            [\"curl\", \"-#o-\", \"-T\", file_path, buzzheavier_url],\n",
        "            capture_output=True,\n",
        "            text=True,\n",
        "            check=True,\n",
        "            timeout=10,\n",
        "        )\n",
        "        json_data = json.loads(result.stdout)\n",
        "        file_id = json_data[\"data\"][\"id\"]\n",
        "        return \"https://buzzheavier.com/\" + file_id\n",
        "    except Exception as e:\n",
        "        # print(f\"Buzzheavier upload error: {e}\")\n",
        "        return \"Upload failed\"\n",
        "\n",
        "\n",
        "def main():\n",
        "    \"\"\"Main function to coordinate uploads.\"\"\"\n",
        "\n",
        "    # Get file path\n",
        "    file_path, filename = get_file_path()\n",
        "    if not file_path:\n",
        "        print(\"Could not find file to upload\")\n",
        "        return\n",
        "\n",
        "    print(f\"Uploading file: {filename}\")\n",
        "\n",
        "    # Concurrent uploads\n",
        "    gofile_result = {\"url\": \"Upload in progress...\"}\n",
        "\n",
        "    # Start Gofile upload in a thread\n",
        "    def gofile_thread_func():\n",
        "        gofile_result[\"url\"] = upload_to_gofile(file_path)\n",
        "\n",
        "    gofile_thread = threading.Thread(target=gofile_thread_func)\n",
        "    gofile_thread.daemon = True\n",
        "    gofile_thread.start()\n",
        "\n",
        "    # Upload to other services while Gofile is uploading\n",
        "    filesvc_url = upload_to_filesvc(file_path)\n",
        "    buzzheavier_url = upload_to_buzzheavier(file_path, filename)\n",
        "\n",
        "    # Wait for Gofile thread with timeout\n",
        "    gofile_thread.join(timeout=15)\n",
        "    if gofile_thread.is_alive():\n",
        "        gofile_result[\"url\"] = \"Upload timed out\"\n",
        "\n",
        "    # Display results\n",
        "    print(\"\\nUploads completed!\")\n",
        "    print(\"Links to the file: (choose any)\")\n",
        "    print(f\"Gofile: {gofile_result['url']}\")\n",
        "    print(f\"Files.vc: {filesvc_url}\")\n",
        "    print(f\"Buzzheavier: {buzzheavier_url}\")\n",
        "\n",
        "\n",
        "if __name__ == \"__main__\":\n",
        "    main()\n"
      ],
      "metadata": {
        "cellView": "form",
        "id": "jh1dy8fGOSpz"
      },
      "execution_count": null,
      "outputs": []
    },
    {
      "cell_type": "markdown",
      "source": [
        "## List of Working Sources sorted by speed.  (Work in progress)\n",
        "⭐ = Personal Recommedation  \n",
        "\n",
        "<font color=\"red\" size=\"4\"> Note:</font> <font size=\"3\">working doesn't mean that it has the novel you want or the novel isn't missing chapters in that source, so always take notice of the the number of chapters while downloading."
      ],
      "metadata": {
        "id": "8g8U8KP8Zer9"
      }
    },
    {
      "cell_type": "code",
      "source": [
        "#@markdown <font size =5 color=\"yellow\">⬅️ Fetch working sources</font>\n",
        "import pandas as pd\n",
        "from urllib.parse import urlparse, parse_qs\n",
        "from IPython.display import display, Markdown\n",
        "\n",
        "input_url = \"https://docs.google.com/spreadsheets/d/1SGfpvLFq7DzssklY90cmTKqQEBNeOBcAj1zSHDv-gfA/edit?usp=sharing\"\n",
        "\n",
        "\n",
        "# Parse URL components\n",
        "parsed_url = urlparse(input_url)\n",
        "path_parts = parsed_url.path.split('/')\n",
        "\n",
        "# Extract document ID from URL path\n",
        "doc_id = path_parts[3]  # The document ID is the 4th path component\n",
        "\n",
        "# Extract gid from URL fragment\n",
        "fragment = parse_qs(parsed_url.fragment)\n",
        "gid = fragment.get('gid', ['0'])[0]  # Default to gid=0 if not specified\n",
        "\n",
        "# Create CSV export URL\n",
        "export_url = f'https://docs.google.com/spreadsheets/d/{doc_id}/export?format=csv&gid={gid}'\n",
        "\n",
        "# Read data from Google Sheets\n",
        "df = pd.read_csv(export_url)\n",
        "\n",
        "# Convert DataFrame to Markdown table\n",
        "markdown_table = df.fillna('').to_markdown(index=False)\n",
        "\n",
        "# Display as formatted Markdown\n",
        "display(Markdown(markdown_table))\n",
        "\n"
      ],
      "metadata": {
        "cellView": "form",
        "id": "adXW7HR8YaV4"
      },
      "execution_count": null,
      "outputs": []
    }
  ]
}