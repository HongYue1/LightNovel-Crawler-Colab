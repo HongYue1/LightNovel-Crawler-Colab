{
  "nbformat": 4,
  "nbformat_minor": 0,
  "metadata": {
    "colab": {
      "provenance": [],
      "authorship_tag": "ABX9TyO2ZPXHPnNQpk8zUuF01QCE",
      "include_colab_link": true
    },
    "kernelspec": {
      "name": "python3",
      "display_name": "Python 3"
    },
    "language_info": {
      "name": "python"
    }
  },
  "cells": [
    {
      "cell_type": "markdown",
      "metadata": {
        "id": "view-in-github",
        "colab_type": "text"
      },
      "source": [
        "<a href=\"https://colab.research.google.com/github/HongYue1/LightNovel-Crawler-Colab/blob/main/lightnovel_crawler.ipynb\" target=\"_parent\"><img src=\"https://colab.research.google.com/assets/colab-badge.svg\" alt=\"Open In Colab\"/></a>"
      ]
    },
    {
      "cell_type": "markdown",
      "source": [
        "# How to use:\n",
        "### 1. Click on connect on the top right and wait untill it finishs connecting.\n",
        "### 2. Before running a block, make sure to fill the required data first.\n",
        "### 3. Run each block, wait for the block to finish before running the next block, the block finishes when you see a green check mark next to the run button.\n",
        "###4. After uploading finish you will be given the link as an output.\n",
        "\n",
        "#### <The archive and upload cells are From OneClickRun, all credit belongs to their repective owners.>"
      ],
      "metadata": {
        "id": "lqzvL9ycODBK"
      }
    },
    {
      "cell_type": "markdown",
      "source": [
        "## ⏬ Install LightNovel-crawler"
      ],
      "metadata": {
        "id": "X_Z7DS7sG-bU"
      }
    },
    {
      "cell_type": "code",
      "execution_count": 1,
      "metadata": {
        "id": "UoqmI4AnBHoc",
        "cellView": "form"
      },
      "outputs": [],
      "source": [
        "# @markdown ## ⬅️ Click Here to install LightNovel-crawler\n",
        "%%capture\n",
        "!pip install -U lightnovel-crawler;"
      ]
    },
    {
      "cell_type": "markdown",
      "source": [
        "## ⏬ Download Novel"
      ],
      "metadata": {
        "id": "fo1CPCQiGwDH"
      }
    },
    {
      "cell_type": "code",
      "source": [
        "#@markdown <h3>⬅️ Click Here to Download</h3>\n",
        "\n",
        "def download():\n",
        "   #@markdown <h4> Enter the Link:\n",
        "   Link = \"https://readnovelfull.com/ancient-godly-monarch-v1.html\"#@param {type:\"string\"}\n",
        "\n",
        "   #@markdown <h4> Enter the range of the chapters separted by a space or enter ALL to download all chapters.\n",
        "   #@markdown <h5> Example to download chapters between 1 and 100 : 1 100\n",
        "   Range = \"1 50\"#@param {type:\"string\"}\n",
        "\n",
        "   #@markdown <h4> Choose a Format:\n",
        "   Format=\"epub\"#@param ['epub','pdf','mobi','json']\n",
        "\n",
        "   if(Range==\"All\"):\n",
        "    !lncrawl --single -o \"/content/novels\" -s $Link --format epub --all -f --suppress --auto-proxy\n",
        "   else:\n",
        "     !lncrawl --single -o \"/content/novels\" -s $Link  --range $Range --format epub  -f --suppress --auto-proxy\n",
        "\n",
        "download()"
      ],
      "metadata": {
        "id": "-JO6phMeBUz4",
        "cellView": "form",
        "outputId": "08ff3ddc-34c7-4535-eea9-50df3760629f",
        "colab": {
          "base_uri": "https://localhost:8080/"
        }
      },
      "execution_count": 2,
      "outputs": [
        {
          "output_type": "stream",
          "name": "stdout",
          "text": [
            "\n",
            "\u001b[33m╭╮\u001b[39m\u001b[2m╱╱╱╱╱╱\u001b[0m\u001b[33m╭╮\u001b[39m\u001b[2m╱\u001b[0m\u001b[33m╭╮\u001b[39m\u001b[2m╱╱╱╱╱╱╱╱╱╱╱╱\u001b[0m\u001b[33m╭╮\u001b[39m\u001b[2m╱\u001b[0m\u001b[33m╭━━━╮\u001b[39m\u001b[2m╱╱╱╱╱╱╱╱╱\u001b[0m\u001b[33m╭╮\n",
            "┃┃\u001b[39m\u001b[2m╱╱╱╱╱╱\u001b[0m\u001b[33m┃┃╭╯╰╮\u001b[39m\u001b[2m╱╱╱╱╱╱╱╱╱╱╱\u001b[0m\u001b[33m┃┃\u001b[39m\u001b[2m╱\u001b[0m\u001b[33m┃╭━╮┃\u001b[39m\u001b[2m╱╱╱╱╱╱╱╱╱\u001b[0m\u001b[33m┃┃\n",
            "┃┃\u001b[39m\u001b[2m╱╱\u001b[0m\u001b[33m╭┳━━┫╰┻╮╭╋━╮╭━━┳╮╭┳━━┫┃\u001b[39m\u001b[2m╱\u001b[0m\u001b[33m┃┃\u001b[39m\u001b[2m╱\u001b[0m\u001b[33m╰╋━┳━━┳╮╭╮╭┫┃╭━━┳━╮\n",
            "┃┃\u001b[39m\u001b[2m╱\u001b[0m\u001b[33m╭╋┫╭╮┃╭╮┃┃┃╭╮┫╭╮┃╰╯┃┃━┫┃\u001b[39m\u001b[2m╱\u001b[0m\u001b[33m┃┃\u001b[39m\u001b[2m╱\u001b[0m\u001b[33m╭┫╭┫╭╮┃╰╯╰╯┃┃┃┃━┫╭╯\n",
            "┃╰━╯┃┃╰╯┃┃┃┃╰┫┃┃┃╰╯┣╮╭┫┃━┫╰╮┃╰━╯┃┃┃╭╮┣╮╭╮╭┫╰┫┃━┫┃\n",
            "╰━━━┻┻━╮┣╯╰┻━┻╯╰┻━━╯╰╯╰━━┻━╯╰━━━┻╯╰╯╰╯╰╯╰╯╰━┻━━┻╯\n",
            "\u001b[39m\u001b[2m╱╱╱╱╱\u001b[0m\u001b[33m╭━╯┃ \u001b[39m\u001b[1mv3.3.0\u001b[0m\u001b[33m\n",
            "\u001b[39m\u001b[2m╱╱╱╱╱\u001b[0m\u001b[33m╰━━╯ \u001b[36m🔗\u001b[36m https://github.com/dipu-bd/lightnovel-crawler\u001b[39m\u001b[33m\u001b[39m\n",
            "\n",
            "\u001b[31m ❗ Input is suppressed\u001b[39m\n",
            "\n",
            "Namespace(log=None, log_file=None, list_sources=False, crawler=[], novel_page='https://readnovelfull.com/ancient-godly-monarch-v1.html', query=None, login=None, output_formats=['epub'], add_source_url=False, single=True, multi=False, output_path='/content/novels', filename=None, filename_only=False, force=True, ignore=False, all=False, first=None, last=None, page=None, range=[1, 50], volumes=None, chapters=None, proxy_file=None, auto_proxy=True, bot=None, shard_id=0, shard_count=1, selenium_grid=None, suppress=True, close_directly=False, extra={})\n",
            "\n",
            "➡ Press \u001b[35m Ctrl + C \u001b[39m to exit\n",
            "\n",
            "Retrieving novel info...\n",
            "\n",
            "\u001b[1m\u001b[33m📒 \u001b[32mAncient Godly Monarch\u001b[0m\n",
            "\u001b[36m21\u001b[39m\u001b[2m volumes and \u001b[36m2053\u001b[39m\u001b[2m chapters found.\u001b[0m\n",
            "\u001b[36m🔗 https://readnovelfull.com/ancient-godly-monarch-v1.html\u001b[39m\n",
            "\n",
            "Chapters: 100% 50/50 [00:02<00:00, 20.60item/s]\n",
            "  Images: 100% 1/1 [00:00<00:00, 14.62item/s]\n",
            "Created: Ancient Godly Monarch c1-50.epub\n",
            "\u001b[1m\u001b[33m✨ Task completed \u001b[39m \u001b[0m\n",
            "\n",
            "\u001b[0m\n",
            "\n",
            " 🔗 \u001b[36m https://github.com/dipu-bd/lightnovel-crawler/issues \u001b[39m\n",
            "\n"
          ]
        }
      ]
    },
    {
      "cell_type": "markdown",
      "metadata": {
        "id": "TWTuIIzUF6hJ"
      },
      "source": [
        "##<img src='https://raw.githubusercontent.com/biplobsd/OneClickRun/master/img/zip.png' height=\"30\" alt=\"netdata\"> Archive and Upload"
      ]
    },
    {
      "cell_type": "code",
      "metadata": {
        "cellView": "form",
        "id": "fPTR4C_gF6hS"
      },
      "source": [
        "# ============================= FORM ============================= #\n",
        "# @markdown ## ⬅️ Archive Files\n",
        "%%capture\n",
        "\n",
        "import os\n",
        "\n",
        "# Specify the directory path\n",
        "directory_path = '/content/novels/epub'\n",
        "\n",
        "# Get the list of files in the directory\n",
        "file_list = os.listdir(directory_path)\n",
        "\n",
        "# Get the first file from the list\n",
        "first_file = file_list[0]\n",
        "\n",
        "# Split the file name and extension\n",
        "file_name_without_extension = os.path.splitext(first_file)[0]\n",
        "\n",
        "\n",
        "MODE = \"ZIP\" #@param [\"ZIP\", \"TAR\", \"7Z\"]\n",
        "FILENAME = file_name_without_extension+'.zip'\n",
        "PATH_TO_FILE = \"/content/novels\"\n",
        "# @markdown #####   For no password leave it empty:\n",
        "ARCHIVE_PASSWORD = \"\" #@param {type:\"string\"}\n",
        "\n",
        "# option supports b k m g (bytes, kilobytes, megabytes, gigabytes)\n",
        "SPLIT = \"no\"\n",
        "\n",
        "\n",
        "compress = 9#@param  {type:\"slider\", min:0, max:9, step:0}\n",
        "\n",
        "# ================================================================ #\n",
        "from pathlib import PurePosixPath\n",
        "\n",
        "pathList = PATH_TO_FILE.split('|')\n",
        "if MODE == \"ZIP\":\n",
        "    if not FILENAME:\n",
        "      FILENAME = \"/content/NEW_FILE.ZIP\"\n",
        "    if ARCHIVE_PASSWORD:\n",
        "      passADD = f'--password \"{ARCHIVE_PASSWORD}\"'\n",
        "    else:\n",
        "      passADD = ''\n",
        "    splitC = f\"-s {SPLIT}\" if not 'no' in SPLIT else \"\"\n",
        "    for part in pathList:\n",
        "      pathdic = PurePosixPath(part.strip())\n",
        "      parent = pathdic.parent\n",
        "      partName = pathdic.parts[-1]\n",
        "      cmd = f'cd \"{parent}\" && zip {passADD} -{compress} {splitC} -v -r -u \"{FILENAME}\" \"{partName}\"'\n",
        "      !$cmd\n",
        "elif MODE == \"TAR\":\n",
        "    if not FILENAME:\n",
        "      FILENAME = \"/content/NEW_FILE\"\n",
        "    cmd = f'GZIP=-{compress} tar -zcvf \"{FILENAME}.tar.gz\" {PATH_TO_FILE}'\n",
        "    !$cmd\n",
        "else:\n",
        "    if not FILENAME:\n",
        "        FILENAME = \"/content/NEW_FILE\"\n",
        "    for part in pathList:\n",
        "      pathdic = PurePosixPath(part.strip())\n",
        "      parent = pathdic.parent\n",
        "      partName = pathdic.parts[-1]\n",
        "      cmd = f'cd \"{parent}\" && 7z a -mx={compress} \"{FILENAME}.7z\" \"{partName}\"'\n",
        "      !$cmd\n"
      ],
      "execution_count": 14,
      "outputs": []
    },
    {
      "cell_type": "markdown",
      "source": [
        "# 🔼 Upload"
      ],
      "metadata": {
        "id": "PSB3uLY7H9V0"
      }
    },
    {
      "cell_type": "code",
      "source": [
        "#@markdown <h2>⬅️ Click Here to install MultiUpload requirements</h3>\n",
        "import os, subprocess, json\n",
        "\n",
        "wd = 'tools/multiupload'\n",
        "progName = 'go-ul_linux_x64'\n",
        "os.makedirs(wd, exist_ok=True)\n",
        "try:\n",
        "  if not os.path.exists(wd+'/'+progName):\n",
        "    cmd = !cd $wd;wget https://github.com/bunnykek/go-upload/releases/download/tag/$progName\n",
        "    cmd = !cd $wd;chmod 755 $progName\n",
        "  if not cmd:\n",
        "    print(\"Requirements installed successfully.\")\n",
        "  else:\n",
        "    print(cmd, 'Requirements installed unsuccessfully', sep='\\n')\n",
        "except Exception as e:\n",
        "  print('Error: ', e)"
      ],
      "metadata": {
        "cellView": "form",
        "id": "NLXcfX-ZKmhG"
      },
      "execution_count": null,
      "outputs": []
    },
    {
      "cell_type": "code",
      "source": [
        "#@markdown <h2>⬅️ Click Here to upload</h2>\n",
        "\n",
        "#@markdown <h5> You can change the filehost, but transfer.sh is fast and easy.\n",
        "\n",
        "FileHost = \"transfersh\" #@param ['catbox', 'fileio', 'filemail', 'gofile', 'krakenfiles', 'letsupload', 'megaup', 'mixdrop', 'pixeldrain', 'racaty', 'transfersh', 'uguu', 'wetransfer', 'workupload']\n",
        "File_Path = \"/content/\" + FILENAME + \".zip\"\n",
        "filehost, infile = FileHost, File_Path\n",
        "\n",
        "message = \"\"\"\n",
        "Name : {0}\n",
        "Host : {1}\n",
        "URL  : {2}\"\"\"\n",
        "cwd = 'tools/multiupload/'\n",
        "def upload(filehost:str, filePath: str):\n",
        "    subprocess.Popen([\"./go-ul_linux_x64\", filehost,\n",
        "                     '-f', infile, '-j', 'response.json'],\n",
        "                     cwd=cwd).wait()\n",
        "\n",
        "    response = json.load(open(cwd+'response.json'))\n",
        "\n",
        "    if not response['jobs'][-1]['ok']:\n",
        "        print(f\"{response['jobs'][-1]['error_text']}\")\n",
        "    else:\n",
        "        print(message.format(response['jobs'][-1]['filename'], filehost, response['jobs'][-1]['url']))\n",
        "\n",
        "upload(filehost, infile)\n",
        "\n"
      ],
      "metadata": {
        "cellView": "form",
        "id": "zVmDZeIAIcja"
      },
      "execution_count": null,
      "outputs": []
    }
  ]
}