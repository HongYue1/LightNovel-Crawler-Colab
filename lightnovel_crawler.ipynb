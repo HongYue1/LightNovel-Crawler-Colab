{
  "nbformat": 4,
  "nbformat_minor": 0,
  "metadata": {
    "colab": {
      "provenance": [],
      "authorship_tag": "ABX9TyPtIDIxSfE4JW1Bo9bXhHx2",
      "include_colab_link": true
    },
    "kernelspec": {
      "name": "python3",
      "display_name": "Python 3"
    },
    "language_info": {
      "name": "python"
    }
  },
  "cells": [
    {
      "cell_type": "markdown",
      "metadata": {
        "id": "view-in-github",
        "colab_type": "text"
      },
      "source": [
        "<a href=\"https://colab.research.google.com/github/HongYue1/LightNovel-Crawler-Colab/blob/main/lightnovel_crawler.ipynb\" target=\"_parent\"><img src=\"https://colab.research.google.com/assets/colab-badge.svg\" alt=\"Open In Colab\"/></a>"
      ]
    },
    {
      "cell_type": "markdown",
      "source": [
        " <font color=\"#3399ff\" size=10><b> How to use:</b></font>\n",
        "### 1. Click on connect <font color=\"yellow\" size=5><b> connect </b></font>on the top right and wait untill it finishs connecting.\n",
        "### 2. Before running a block, make sure to <font color=\"red\" size=5> <b> fill the required data first. </b></font>\n",
        "### 3. Run each block, wait for the block to finish before running the next block, the block finishes when you see a green check mark<font color =\"#1bc757\" size=5><b> ✔</b></font> next to the run button.\n",
        "###4. After uploading finish you will be given the link as an output.\n",
        "### 5. Note: to download several novels you don't need to redo all this steps, just download a novel then upload it, then go back to the download section and download the next novel then upload it....etc , <font color=\"red\" size=5> <b> you can only upload one novel a time.</br></font>\n",
        "### I will try to make a list of working sources here when I'm free.\n",
        "### <font color=\"#00c3e3\"><b> Look at the buttom of this notebook for the list.</b></font>\n",
        "# <font color=\"FF1493\" size=5> <b> Enjoy <3 </b> </font>\n",
        "<font size=1> <The archive and upload cells are From OneClickRun, all credit belongs to their repective owners.><font>"
      ],
      "metadata": {
        "id": "lqzvL9ycODBK"
      }
    },
    {
      "cell_type": "markdown",
      "source": [
        "## ⏬ Install LightNovel-crawler"
      ],
      "metadata": {
        "id": "X_Z7DS7sG-bU"
      }
    },
    {
      "cell_type": "code",
      "execution_count": null,
      "metadata": {
        "id": "UoqmI4AnBHoc",
        "cellView": "form"
      },
      "outputs": [],
      "source": [
        "# @markdown <font size =5 color=\"yellow\"> ⬅️ Click Here to install LightNovel-crawler</font>\n",
        "%%capture\n",
        "!pip install -U lightnovel-crawler;"
      ]
    },
    {
      "cell_type": "markdown",
      "source": [
        "## ⏬ Download Novel"
      ],
      "metadata": {
        "id": "fo1CPCQiGwDH"
      }
    },
    {
      "cell_type": "code",
      "source": [
        "#@markdown <font size =5 color=\"yellow\">⬅️ Click Here to Download</font>\n",
        "\n",
        "#@markdown <h4> Enter the Link:\n",
        "#@markdown <h3> You can use this site, it's working fine: https://www.novelpub.com\n",
        "Link = \"\"#@param {type:\"string\"}\n",
        "#@markdown <center><h3><font color=\"#3399ff\"><b>⚙️ Advanced Options ⚙️</b></font></h3></center>\n",
        "\n",
        "#@markdown <h4> Enter the range of the chapters separted by a space or enter <font color=\"#3399ff\" size=5><b>All</b></font>  to download all chapters.\n",
        "#@markdown <h5> Example to download chapters between 1 and 100 : 1 100\n",
        "Range = \"All\"#@param {type:\"string\"}\n",
        "\n",
        "\n",
        "Format=\"epub\"\n",
        "\n",
        "def download():\n",
        "\n",
        "  Misc_command=\" -f --suppress --auto-proxy\"\n",
        "\n",
        "\n",
        "  if(Range==\"All\"):\n",
        "    !lncrawl --single -o \"/content/novels\" -s $Link --format $Format --all $Misc_command\n",
        "  else:\n",
        "    !lncrawl --single -o \"/content/novels\" -s $Link --format $Format --range $Range $Misc_command\n",
        "\n",
        "download()"
      ],
      "metadata": {
        "id": "-JO6phMeBUz4",
        "cellView": "form"
      },
      "execution_count": null,
      "outputs": []
    },
    {
      "cell_type": "markdown",
      "metadata": {
        "id": "TWTuIIzUF6hJ"
      },
      "source": [
        "##<img src='https://raw.githubusercontent.com/biplobsd/OneClickRun/master/img/zip.png' height=\"30\" alt=\"netdata\"> Archive and Upload"
      ]
    },
    {
      "cell_type": "code",
      "metadata": {
        "cellView": "form",
        "id": "fPTR4C_gF6hS"
      },
      "source": [
        "# ============================= FORM ============================= #\n",
        "# @markdown <font size =5 color=\"yellow\"> ⬅️ Archive Files and Upload</font>\n",
        "\n",
        "\n",
        "import os\n",
        "\n",
        "# Specify the directory path\n",
        "directory_path = '/content/novels/'+Format\n",
        "\n",
        "# Get the list of files in the directory\n",
        "file_list = os.listdir(directory_path)\n",
        "\n",
        "# Get the first file from the list\n",
        "first_file = file_list[0]\n",
        "\n",
        "# Split the file name and extension\n",
        "file_name_without_extension = os.path.splitext(first_file)[0]\n",
        "\n",
        "\n",
        "MODE = \"ZIP\"\n",
        "FILENAME = file_name_without_extension+'.zip'\n",
        "PATH_TO_FILE = \"/content/novels\"\n",
        "# @markdown <h3>Leave the password empty if not needed.\n",
        "ARCHIVE_PASSWORD = \"\"#@param {type:\"string\"}\n",
        "\n",
        "# option supports b k m g (bytes, kilobytes, megabytes, gigabytes)\n",
        "SPLIT = \"no\"\n",
        "\n",
        "\n",
        "compress = 9\n",
        "\n",
        "# ================================================================ #\n",
        "from pathlib import PurePosixPath\n",
        "\n",
        "pathList = PATH_TO_FILE.split('|')\n",
        "if MODE == \"ZIP\":\n",
        "    if not FILENAME:\n",
        "      FILENAME = \"/content/NEW_FILE.ZIP\"\n",
        "    if ARCHIVE_PASSWORD:\n",
        "      passADD = f'--password \"{ARCHIVE_PASSWORD}\"'\n",
        "    else:\n",
        "      passADD = ''\n",
        "    splitC = f\"-s {SPLIT}\" if not 'no' in SPLIT else \"\"\n",
        "    for part in pathList:\n",
        "      pathdic = PurePosixPath(part.strip())\n",
        "      parent = pathdic.parent\n",
        "      partName = pathdic.parts[-1]\n",
        "      cmd = f'cd \"{parent}\" && zip {passADD} -{compress} {splitC} -v -r -u \"{FILENAME}\" \"{partName}\"'\n",
        "      !$cmd\n",
        "elif MODE == \"TAR\":\n",
        "    if not FILENAME:\n",
        "      FILENAME = \"/content/NEW_FILE\"\n",
        "    cmd = f'GZIP=-{compress} tar -zcvf \"{FILENAME}.tar.gz\" {PATH_TO_FILE}'\n",
        "    !$cmd\n",
        "else:\n",
        "    if not FILENAME:\n",
        "        FILENAME = \"/content/NEW_FILE\"\n",
        "    for part in pathList:\n",
        "      pathdic = PurePosixPath(part.strip())\n",
        "      parent = pathdic.parent\n",
        "      partName = pathdic.parts[-1]\n",
        "      cmd = f'cd \"{parent}\" && 7z a -mx={compress} \"{FILENAME}.7z\" \"{partName}\"'\n",
        "      !$cmd\n",
        "\n",
        "\n",
        "########################################################\n",
        "import os, subprocess, json\n",
        "\n",
        "wd = 'tools/multiupload'\n",
        "progName = 'go-ul_linux_x64'\n",
        "os.makedirs(wd, exist_ok=True)\n",
        "try:\n",
        "  if not os.path.exists(wd+'/'+progName):\n",
        "    cmd = !cd $wd;wget https://github.com/bunnykek/go-upload/releases/download/tag/$progName\n",
        "    cmd = !cd $wd;chmod 755 $progName\n",
        "  if not cmd:\n",
        "    print(\"Requirements installed successfully.\")\n",
        "  else:\n",
        "    print(cmd, 'Requirements installed unsuccessfully', sep='\\n')\n",
        "except Exception as e:\n",
        "  print('Error: ', e)\n",
        "\n",
        "##############################################\n",
        "\n",
        "#@markdown <h4> You can change the filehost, but transfer.sh is fast and easy.\n",
        "\n",
        "FileHost = \"transfersh\" #@param ['catbox', 'fileio', 'filemail', 'gofile', 'krakenfiles', 'letsupload', 'megaup', 'mixdrop', 'pixeldrain', 'racaty', 'transfersh', 'uguu', 'wetransfer', 'workupload']\n",
        "File_Path = \"/content/\" + file_name_without_extension + \".zip\"\n",
        "filehost, infile = FileHost, File_Path\n",
        "\n",
        "message = \"\"\"\n",
        "Name : {0}\n",
        "Host : {1}\n",
        "URL  : {2}\"\"\"\n",
        "cwd = 'tools/multiupload/'\n",
        "def upload(filehost:str, filePath: str):\n",
        "    subprocess.Popen([\"./go-ul_linux_x64\", filehost,\n",
        "                     '-f', infile, '-j', 'response.json'],\n",
        "                     cwd=cwd).wait()\n",
        "\n",
        "    response = json.load(open(cwd+'response.json'))\n",
        "\n",
        "    if not response['jobs'][-1]['ok']:\n",
        "        print(f\"{response['jobs'][-1]['error_text']}\")\n",
        "    else:\n",
        "        print(message.format(response['jobs'][-1]['filename'], filehost, response['jobs'][-1]['url']))\n",
        "\n",
        "upload(filehost, infile)\n",
        "\n"
      ],
      "execution_count": null,
      "outputs": []
    },
    {
      "cell_type": "markdown",
      "source": [
        "# <font color =\"#3399ff\" size = 6><b> List of working sources:</b></font> <font color=\"red\" size=6><b>(Incomplete)</b></font>\n",
        "\n",
        "1- <a size = 5 href=\"https://www.novelpub.com\"> Novel Pub</a> Mostly up to date <br />\n",
        "2-  <a size = 5 href=\"https://novelnext.com\"> Novel Next</a> Very fast"
      ],
      "metadata": {
        "id": "iRawqHcdjKhG"
      }
    }
  ]
}